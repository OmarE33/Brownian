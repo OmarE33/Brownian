{
 "cells": [
  {
   "cell_type": "code",
   "execution_count": 30,
   "metadata": {},
   "outputs": [
    {
     "name": "stderr",
     "output_type": "stream",
     "text": [
      "/Users/akhilmarayikkottuvijayan/opt/anaconda3/lib/python3.7/site-packages/ipykernel_launcher.py:15: RuntimeWarning: divide by zero encountered in true_divide\n",
      "  from ipykernel import kernelapp as app\n"
     ]
    },
    {
     "data": {
      "text/plain": [
       "[<matplotlib.lines.Line2D at 0x7fa0eddbf5d0>]"
      ]
     },
     "execution_count": 30,
     "metadata": {},
     "output_type": "execute_result"
    },
    {
     "data": {
      "image/png": "[encoded data removed]",
      "text/plain": [
       "<Figure size 432x288 with 1 Axes>"
      ]
     },
     "metadata": {
      "needs_background": "light"
     },
     "output_type": "display_data"
    }
   ],
   "source": [
    "import numpy as np\n",
    "import math as m\n",
    "import matplotlib.pyplot as plt\n",
    "import scipy as sc"
   ]
  },
  {
   "cell_type": "code",
   "execution_count": null,
   "metadata": {},
   "outputs": [],
   "source": [
    "gamma = .1\n",
    "mu = 1\n",
    "diameter = .0000001\n",
    "mp = 1.67*10**-27\n",
    "beta = 3*np.pi*mu*diameter/mp\n",
    "kb = 1.38*10**-23\n",
    "T = 295.372222\n",
    "cc = 11\n",
    "S = 2*kb*T*beta/mp*cc\n",
    "deltaT = np.linspace(0, 2*10**-6, num=1000)\n",
    "Fb = gamma*((np.pi*S)/(deltaT))**.5\n",
    "\n",
    "plt.plot(deltaT, Fb)\n",
    "#plt.show()"
   ]
  },
  {
   "cell_type": "code",
   "execution_count": null,
   "metadata": {},
   "outputs": [],
   "source": [
    "x1 = 0\n",
    "u1 = 0\n",
    "\n",
    "for i in range (0,1000):\n",
    "    u2 = u1+dt*Fb\n",
    "    v2 =\n",
    "    x2 = x1+u2*dt\n",
    "    y2 =\n",
    "    u1 = u2\n",
    "    x1 = x2\n",
    "    X.append(x2)\n",
    "    Y.appe\n",
    "    U.append(u2)\n",
    "    V.append\n",
    "# plot it for different dt\n",
    "# do mult"
   ]
  }
 ],
 "metadata": {
  "kernelspec": {
   "display_name": "Python 3",
   "language": "python",
   "name": "python3"
  },
  "language_info": {
   "codemirror_mode": {
    "name": "ipython",
    "version": 3
   },
   "file_extension": ".py",
   "mimetype": "text/x-python",
   "name": "python",
   "nbconvert_exporter": "python",
   "pygments_lexer": "ipython3",
   "version": "3.7.4"
  }
 },
 "nbformat": 4,
 "nbformat_minor": 4
}
