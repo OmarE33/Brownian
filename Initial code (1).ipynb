{
 "cells": [
  {
   "cell_type": "code",
   "execution_count": 3,
   "metadata": {},
   "outputs": [],
   "source": [
    "import numpy as np\n",
    "import math\n",
    "import matplotlib.pyplot as plt"
   ]
  },
  {
   "cell_type": "code",
   "execution_count": 5,
   "metadata": {},
   "outputs": [
    {
     "data": {
      "text/plain": [
       "[<matplotlib.lines.Line2D at 0x1bfbb7e7d60>]"
      ]
     },
     "execution_count": 5,
     "metadata": {},
     "output_type": "execute_result"
    },
    {
     "data": {
      "image/png": "[encoded data removed]",
      "text/plain": [
       "<Figure size 432x288 with 1 Axes>"
      ]
     },
     "metadata": {
      "needs_background": "light"
     },
     "output_type": "display_data"
    }
   ],
   "source": [
    "gamma = .1\n",
    "mu = 1\n",
    "diameter = .0000001\n",
    "mp = 1.67*10**-27\n",
    "beta = 3*np.pi*mu*diameter/mp\n",
    "kb = 1.38*10**-23\n",
    "T = 295.372222\n",
    "cc = 11\n",
    "S = 2*kb*T*beta/mp*cc\n",
    "deltaT = np.linspace(0.001, 2*10**-6, num=1000)\n",
    "Fb = gamma*((np.pi*S)/(deltaT))**.5\n",
    "\n",
    "plt.plot(deltaT, Fb)\n",
    "#plt.show()"
   ]
  },
  {
   "cell_type": "raw",
   "metadata": {},
   "source": [
    "x1 = 0\n",
    "u1 = 0\n",
    "U_ = []\n",
    "X_ = []\n",
    "Fb = np.array(Fb)\n",
    "deltaT = np.array(deltaT)\n",
    "for j in deltaT:\n",
    "    U = []\n",
    "    X = []\n",
    "    U.append(u1)\n",
    "    X.append(x1)\n",
    "    for i in range(0,1000):\n",
    "        u2 = U[i] + j*Fb[i]\n",
    "        x2 = X[i] + u2*j\n",
    "        X.append(x2)\n",
    "        U.append(u2)\n",
    "    X_.append(X)\n",
    "    U_.append(U)\n",
    "plt.plot(np.mean(X_, axis=1), np.mean(U_, axis=1))"
   ]
  },
  {
   "cell_type": "code",
   "execution_count": null,
   "metadata": {},
   "outputs": [],
   "source": []
  }
 ],
 "metadata": {
  "kernelspec": {
   "display_name": "Python 3",
   "language": "python",
   "name": "python3"
  },
  "language_info": {
   "codemirror_mode": {
    "name": "ipython",
    "version": 3
   },
   "file_extension": ".py",
   "mimetype": "text/x-python",
   "name": "python",
   "nbconvert_exporter": "python",
   "pygments_lexer": "ipython3",
   "version": "3.8.5"
  }
 },
 "nbformat": 4,
 "nbformat_minor": 4
}
